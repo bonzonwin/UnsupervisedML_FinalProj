{
 "cells": [
  {
   "cell_type": "markdown",
   "metadata": {},
   "source": [
    "\n",
    "# Gaussian Mixture Model Selection\n",
    "\n",
    "This example shows that model selection can be performed with Gaussian Mixture\n",
    "Models (GMM) using `information-theory criteria`. Model selection\n",
    "concerns both the covariance type and the number of components in the model.\n",
    "\n",
    "In this case, both the Akaike Information Criterion (AIC) and the Bayes\n",
    "Information Criterion (BIC) provide the right result, but we only demo the\n",
    "latter here.  Its a small change to do AIC, left to the student as an exercise :)\n",
    "\n",
    "Generally AIC penalizes model complexity less than BIC; also BIC probably does better as $\\lim N \\to \\infty$ and AIC may be better at smaller sample sizes\n"
   ]
  },
  {
   "cell_type": "markdown",
   "metadata": {},
   "source": [
    "## Data generation\n",
    "\n",
    "We generate two components (each one containing `n_samples`) by randomly\n",
    "sampling the standard normal distribution as returned by `numpy.random.randn`.\n",
    "One component is kept spherical yet shifted and re-scaled. The other one is\n",
    "deformed to have a more general covariance matrix.\n",
    "\n"
   ]
  },
  {
   "cell_type": "code",
   "execution_count": 1,
   "metadata": {
    "tags": []
   },
   "outputs": [],
   "source": [
    "import numpy as np\n",
    "\n",
    "n_samples = 500\n",
    "np.random.seed(0)\n",
    "C = np.array([[0.0, -0.1], [1.7, 0.4]])\n",
    "component_1 = np.dot(np.random.randn(n_samples, 2), C)  # general\n",
    "component_2 = 0.7 * np.random.randn(n_samples, 2) + np.array([-4, 1])  # spherical\n",
    "\n",
    "X = np.concatenate([component_1, component_2])"
   ]
  },
  {
   "cell_type": "markdown",
   "metadata": {},
   "source": [
    "We can visualize the different components:\n",
    "\n"
   ]
  },
  {
   "cell_type": "code",
   "execution_count": 2,
   "metadata": {
    "tags": []
   },
   "outputs": [
    {
     "data": {
      "image/png": "[encoded data removed]",
      "text/plain": [
       "<Figure size 640x480 with 1 Axes>"
      ]
     },
     "metadata": {},
     "output_type": "display_data"
    }
   ],
   "source": [
    "import matplotlib.pyplot as plt\n",
    "\n",
    "plt.scatter(component_1[:, 0], component_1[:, 1], s=0.8)\n",
    "plt.scatter(component_2[:, 0], component_2[:, 1], s=0.8)\n",
    "plt.title(\"Gaussian Mixture components\")\n",
    "plt.axis(\"equal\")\n",
    "plt.show()"
   ]
  },
  {
   "cell_type": "markdown",
   "metadata": {},
   "source": [
    "## Model training and selection\n",
    "\n",
    "We vary the number of components from 1 to 6 and the type of covariance\n",
    "parameters to use:\n",
    "\n",
    "- `\"full\"`: each component has its own general covariance matrix.\n",
    "- `\"tied\"`: all components share the same general covariance matrix.\n",
    "- `\"diag\"`: each component has its own diagonal covariance matrix.\n",
    "- `\"spherical\"`: each component has its own single variance.\n",
    "\n",
    "We score the different models and keep the best model (the lowest BIC). This\n",
    "is done by using [`sklearn.model_selection.GridSearchCV`](https://scikit-learn.org/stable/modules/generated/sklearn.model_selection.GridSearchCV.html) and a\n",
    "user-defined score function which returns the negative BIC score, as\n",
    "GridSearchCV is designed to **maximize** a\n",
    "score (maximizing the negative BIC is equivalent to minimizing the BIC).\n",
    "\n",
    "The best set of parameters and estimator are stored in `best_parameters_` and\n",
    "`best_estimator_`, respectively.\n",
    "\n"
   ]
  },
  {
   "cell_type": "code",
   "execution_count": 10,
   "metadata": {
    "tags": []
   },
   "outputs": [
    {
     "ename": "NameError",
     "evalue": "name 'estimator' is not defined",
     "output_type": "error",
     "traceback": [
      "\u001b[0;31m---------------------------------------------------------------------------\u001b[0m",
      "\u001b[0;31mNameError\u001b[0m                                 Traceback (most recent call last)",
      "Cell \u001b[0;32mIn[10], line 21\u001b[0m\n\u001b[1;32m     14\u001b[0m param_grid \u001b[38;5;241m=\u001b[39m {\n\u001b[1;32m     15\u001b[0m     \u001b[38;5;124m\"\u001b[39m\u001b[38;5;124mn_components\u001b[39m\u001b[38;5;124m\"\u001b[39m: \u001b[38;5;28mrange\u001b[39m(\u001b[38;5;241m1\u001b[39m, \u001b[38;5;241m7\u001b[39m),\n\u001b[1;32m     16\u001b[0m     \u001b[38;5;124m\"\u001b[39m\u001b[38;5;124mcovariance_type\u001b[39m\u001b[38;5;124m\"\u001b[39m: [\u001b[38;5;124m\"\u001b[39m\u001b[38;5;124mspherical\u001b[39m\u001b[38;5;124m\"\u001b[39m, \u001b[38;5;124m\"\u001b[39m\u001b[38;5;124mtied\u001b[39m\u001b[38;5;124m\"\u001b[39m, \u001b[38;5;124m\"\u001b[39m\u001b[38;5;124mdiag\u001b[39m\u001b[38;5;124m\"\u001b[39m, \u001b[38;5;124m\"\u001b[39m\u001b[38;5;124mfull\u001b[39m\u001b[38;5;124m\"\u001b[39m],\n\u001b[1;32m     17\u001b[0m }\n\u001b[1;32m     19\u001b[0m \u001b[38;5;66;03m# docs at\u001b[39;00m\n\u001b[1;32m     20\u001b[0m \u001b[38;5;66;03m# https://scikit-learn.org/stable/modules/generated/sklearn.model_selection.GridSearchCV.html\u001b[39;00m\n\u001b[0;32m---> 21\u001b[0m grid_search \u001b[38;5;241m=\u001b[39m GridSearchCV(gmm_bic_score(estimator, X),param_grid\u001b[38;5;241m=\u001b[39mparam_grid, cv\u001b[38;5;241m=\u001b[39m\u001b[38;5;241m3\u001b[39m)\n\u001b[1;32m     22\u001b[0m grid_search\u001b[38;5;241m.\u001b[39mfit(X)\n",
      "\u001b[0;31mNameError\u001b[0m: name 'estimator' is not defined"
     ]
    }
   ],
   "source": [
    "from sklearn.mixture import GaussianMixture\n",
    "from sklearn.model_selection import GridSearchCV\n",
    "\n",
    "\n",
    "# this is your scoring function for Grid Search\n",
    "def gmm_bic_score(estimator, X):\n",
    "    \"\"\"Callable to pass to GridSearchCV that will use the BIC score.\"\"\"\n",
    "    # Make it negative since GridSearchCV expects a score to maximize\n",
    "    return -estimator.bic(X)\n",
    "\n",
    "# this is the parameters, of which the Grid Search \n",
    "# tries all possible combinations... \n",
    "# e.g. full+1component, full+2, ... full+7, diag+1, diag+2... \n",
    "param_grid = {\n",
    "    \"n_components\": range(1, 7),\n",
    "    \"covariance_type\": [\"spherical\", \"tied\", \"diag\", \"full\"],\n",
    "}\n",
    "\n",
    "# docs at\n",
    "# https://scikit-learn.org/stable/modules/generated/sklearn.model_selection.GridSearchCV.html\n",
    "grid_search = GridSearchCV(gmm_bic_score(estimator, X),param_grid=param_grid, cv=3)\n",
    "grid_search.fit(X)"
   ]
  },
  {
   "cell_type": "markdown",
   "metadata": {},
   "source": [
    "## Plot the BIC scores\n",
    "\n",
    "To ease the plotting we can create a `pandas.DataFrame` from the results of\n",
    "the cross-validation done by the grid search. We re-inverse the sign of the\n",
    "BIC score to show the effect of minimizing it.\n",
    "\n"
   ]
  },
  {
   "cell_type": "code",
   "execution_count": null,
   "metadata": {},
   "outputs": [],
   "source": [
    "import pandas as pd\n",
    "\n",
    "df = pd.DataFrame(grid_search.cv_results_)[\n",
    "    [\"param_n_components\", \"param_covariance_type\", \"mean_test_score\"]\n",
    "]\n",
    "df[\"mean_test_score\"] = -df[\"mean_test_score\"]\n",
    "df = df.rename(\n",
    "    columns={\n",
    "        \"param_n_components\": \"Number of components\",\n",
    "        \"param_covariance_type\": \"Type of covariance\",\n",
    "        \"mean_test_score\": \"BIC score\",\n",
    "    }\n",
    ")\n",
    "df.sort_values(by=\"BIC score\").head()"
   ]
  },
  {
   "cell_type": "code",
   "execution_count": null,
   "metadata": {},
   "outputs": [],
   "source": [
    "import seaborn as sns\n",
    "\n",
    "sns.catplot(\n",
    "    data=df,\n",
    "    kind=\"bar\",\n",
    "    x=\"Number of components\",\n",
    "    y=\"BIC score\",\n",
    "    hue=\"Type of covariance\",\n",
    ")\n",
    "plt.show()"
   ]
  },
  {
   "cell_type": "markdown",
   "metadata": {},
   "source": [
    "In the present case, the model with 2 components and full covariance (which\n",
    "corresponds to the true generative model) has the lowest BIC score and is\n",
    "therefore selected by the grid search.\n",
    "\n",
    "## Plot the best model\n",
    "\n",
    "We plot an ellipse to show each Gaussian component of the selected model. For\n",
    "such purpose, one needs to find the eigenvalues of the covariance matrices as\n",
    "returned by the `covariances_` attribute. The shape of such matrices depends\n",
    "on the `covariance_type`:\n",
    "\n",
    "- `\"full\"`: (`n_components`, `n_features`, `n_features`)\n",
    "- `\"tied\"`: (`n_features`, `n_features`)\n",
    "- `\"diag\"`: (`n_components`, `n_features`)\n",
    "- `\"spherical\"`: (`n_components`,)\n",
    "\n"
   ]
  },
  {
   "cell_type": "code",
   "execution_count": null,
   "metadata": {},
   "outputs": [],
   "source": [
    "from matplotlib.patches import Ellipse\n",
    "from scipy import linalg\n",
    "\n",
    "color_iter = sns.color_palette(\"tab10\", 2)[::-1]\n",
    "Y_ = grid_search.predict(X)\n",
    "\n",
    "fig, ax = plt.subplots()\n",
    "\n",
    "for i, (mean, cov, color) in enumerate(\n",
    "    zip(\n",
    "        grid_search.best_estimator_.means_,\n",
    "        grid_search.best_estimator_.covariances_,\n",
    "        color_iter,\n",
    "    )\n",
    "):\n",
    "    v, w = linalg.eigh(cov)\n",
    "    if not np.any(Y_ == i):\n",
    "        continue\n",
    "    plt.scatter(X[Y_ == i, 0], X[Y_ == i, 1], 0.8, color=color)\n",
    "\n",
    "    angle = np.arctan2(w[0][1], w[0][0])\n",
    "    angle = 180.0 * angle / np.pi  # convert to degrees\n",
    "    v = 2.0 * np.sqrt(2.0) * np.sqrt(v)\n",
    "    ellipse = Ellipse(mean, v[0], v[1], angle=180.0 + angle, color=color)\n",
    "    ellipse.set_clip_box(fig.bbox)\n",
    "    ellipse.set_alpha(0.5)\n",
    "    ax.add_artist(ellipse)\n",
    "\n",
    "plt.title(\n",
    "    f\"Selected GMM: {grid_search.best_params_['covariance_type']} model, \"\n",
    "    f\"{grid_search.best_params_['n_components']} components\"\n",
    ")\n",
    "plt.axis(\"equal\")\n",
    "plt.show()"
   ]
  },
  {
   "cell_type": "code",
   "execution_count": null,
   "metadata": {},
   "outputs": [],
   "source": []
  }
 ],
 "metadata": {
  "kernelspec": {
   "display_name": "Python 3 (ipykernel)",
   "language": "python",
   "name": "python3"
  },
  "language_info": {
   "codemirror_mode": {
    "name": "ipython",
    "version": 3
   },
   "file_extension": ".py",
   "mimetype": "text/x-python",
   "name": "python",
   "nbconvert_exporter": "python",
   "pygments_lexer": "ipython3",
   "version": "3.11.5"
  }
 },
 "nbformat": 4,
 "nbformat_minor": 4
}
