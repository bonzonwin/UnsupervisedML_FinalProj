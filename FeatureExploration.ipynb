{
 "cells": [
  {
   "cell_type": "code",
   "execution_count": 1,
   "metadata": {},
   "outputs": [
    {
     "name": "stderr",
     "output_type": "stream",
     "text": [
      "[nltk_data] Downloading package stopwords to\n",
      "[nltk_data]     /Users/sugita/nltk_data...\n",
      "[nltk_data]   Package stopwords is already up-to-date!\n"
     ]
    },
    {
     "data": {
      "text/plain": [
       "True"
      ]
     },
     "execution_count": 1,
     "metadata": {},
     "output_type": "execute_result"
    }
   ],
   "source": [
    "import pandas as pd \n",
    "import nltk\n",
    "from nltk.corpus import stopwords\n",
    "from collections import Counter\n",
    "\n",
    "nltk.download('stopwords')"
   ]
  },
  {
   "cell_type": "code",
   "execution_count": 2,
   "metadata": {},
   "outputs": [
    {
     "data": {
      "text/html": [
       "<div>\n",
       "<style scoped>\n",
       "    .dataframe tbody tr th:only-of-type {\n",
       "        vertical-align: middle;\n",
       "    }\n",
       "\n",
       "    .dataframe tbody tr th {\n",
       "        vertical-align: top;\n",
       "    }\n",
       "\n",
       "    .dataframe thead th {\n",
       "        text-align: right;\n",
       "    }\n",
       "</style>\n",
       "<table border=\"1\" class=\"dataframe\">\n",
       "  <thead>\n",
       "    <tr style=\"text-align: right;\">\n",
       "      <th></th>\n",
       "      <th>Category</th>\n",
       "      <th>Message</th>\n",
       "    </tr>\n",
       "  </thead>\n",
       "  <tbody>\n",
       "    <tr>\n",
       "      <th>0</th>\n",
       "      <td>ham</td>\n",
       "      <td>Go until jurong point, crazy.. Available only ...</td>\n",
       "    </tr>\n",
       "    <tr>\n",
       "      <th>1</th>\n",
       "      <td>ham</td>\n",
       "      <td>Ok lar... Joking wif u oni...</td>\n",
       "    </tr>\n",
       "    <tr>\n",
       "      <th>2</th>\n",
       "      <td>spam</td>\n",
       "      <td>Free entry in 2 a wkly comp to win FA Cup fina...</td>\n",
       "    </tr>\n",
       "    <tr>\n",
       "      <th>3</th>\n",
       "      <td>ham</td>\n",
       "      <td>U dun say so early hor... U c already then say...</td>\n",
       "    </tr>\n",
       "    <tr>\n",
       "      <th>4</th>\n",
       "      <td>ham</td>\n",
       "      <td>Nah I don't think he goes to usf, he lives aro...</td>\n",
       "    </tr>\n",
       "  </tbody>\n",
       "</table>\n",
       "</div>"
      ],
      "text/plain": [
       "  Category                                            Message\n",
       "0      ham  Go until jurong point, crazy.. Available only ...\n",
       "1      ham                      Ok lar... Joking wif u oni...\n",
       "2     spam  Free entry in 2 a wkly comp to win FA Cup fina...\n",
       "3      ham  U dun say so early hor... U c already then say...\n",
       "4      ham  Nah I don't think he goes to usf, he lives aro..."
      ]
     },
     "execution_count": 2,
     "metadata": {},
     "output_type": "execute_result"
    }
   ],
   "source": [
    "# https://www.kaggle.com/code/mfaisalqureshi/email-spam-detection-98-accuracy\n",
    "df = pd.read_csv('spam.csv')\n",
    "df.head()"
   ]
  },
  {
   "cell_type": "code",
   "execution_count": 3,
   "metadata": {},
   "outputs": [],
   "source": [
    "# Filter out stopwords, special characters, and symbols\n",
    "df['Message'] = df['Message'].str.lower().apply(nltk.word_tokenize)\n",
    "stop_words = set(stopwords.words('english'))\n",
    "df['Message'] = df['Message'].apply(lambda x: [word for word in x if word.isalpha() and word not in stop_words])\n",
    "\n",
    "# Count the frequency of every word in the messages and get the 20 most common for both spam and non-spam\n",
    "spam_messages = df[df['Category'] == 'spam']['Message']\n",
    "non_spam_messages = df[df['Category'] == 'ham']['Message']\n",
    "\n",
    "def count_words(messages):\n",
    "  res = Counter()\n",
    "\n",
    "  for message in messages:\n",
    "    for word in message:\n",
    "      res[word] += 1\n",
    "    \n",
    "  return res\n",
    "\n",
    "top_spam_words = count_words(spam_messages).most_common(20)\n",
    "top_non_spam_words = count_words(non_spam_messages).most_common(20)"
   ]
  },
  {
   "cell_type": "code",
   "execution_count": 4,
   "metadata": {},
   "outputs": [
    {
     "name": "stdout",
     "output_type": "stream",
     "text": [
      "call: 343\n",
      "free: 219\n",
      "txt: 156\n",
      "ur: 144\n",
      "u: 138\n",
      "mobile: 123\n",
      "text: 121\n",
      "stop: 118\n",
      "claim: 111\n",
      "reply: 104\n",
      "prize: 90\n",
      "get: 84\n",
      "send: 69\n",
      "new: 69\n",
      "nokia: 65\n",
      "cash: 62\n",
      "urgent: 62\n",
      "win: 60\n",
      "service: 55\n",
      "contact: 55\n"
     ]
    }
   ],
   "source": [
    "for word, count in top_spam_words:\n",
    "    print(f\"{word}: {count}\") "
   ]
  },
  {
   "cell_type": "code",
   "execution_count": 5,
   "metadata": {},
   "outputs": [
    {
     "name": "stdout",
     "output_type": "stream",
     "text": [
      "u: 994\n",
      "gt: 318\n",
      "lt: 316\n",
      "get: 302\n",
      "go: 251\n",
      "ur: 247\n",
      "ok: 246\n",
      "got: 245\n",
      "know: 237\n",
      "like: 233\n",
      "call: 232\n",
      "good: 231\n",
      "come: 230\n",
      "time: 198\n",
      "love: 197\n",
      "day: 191\n",
      "ü: 173\n",
      "going: 169\n",
      "one: 168\n",
      "want: 164\n"
     ]
    }
   ],
   "source": [
    "for word, count in top_non_spam_words:\n",
    "    print(f\"{word}: {count}\") "
   ]
  }
 ],
 "metadata": {
  "kernelspec": {
   "display_name": "Python 3 (ipykernel)",
   "language": "python",
   "name": "python3"
  },
  "language_info": {
   "codemirror_mode": {
    "name": "ipython",
    "version": 3
   },
   "file_extension": ".py",
   "mimetype": "text/x-python",
   "name": "python",
   "nbconvert_exporter": "python",
   "pygments_lexer": "ipython3",
   "version": "3.11.5"
  }
 },
 "nbformat": 4,
 "nbformat_minor": 4
}
