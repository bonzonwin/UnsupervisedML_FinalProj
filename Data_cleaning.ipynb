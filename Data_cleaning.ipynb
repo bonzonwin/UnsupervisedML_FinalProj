{
 "cells": [
  {
   "cell_type": "code",
   "execution_count": null,
   "metadata": {},
   "outputs": [],
   "source": [
    "import pandas as pd \n",
    "import numpy as np\n",
    "import re\n"
   ]
  },
  {
   "cell_type": "code",
   "execution_count": null,
   "metadata": {},
   "outputs": [],
   "source": [
    "data = pd.read_csv('spam_ham_dataset.csv')\n"
   ]
  },
  {
   "cell_type": "code",
   "execution_count": null,
   "metadata": {},
   "outputs": [],
   "source": [
    "def split_subject_body(text):\n",
    "    # Splitting by the first occurrence of \"\\r\\n\" which seems to separate the subject from the body\n",
    "    parts = text.split(\"\\r\\n\", 1)\n",
    "    subject = parts[0].replace(\"Subject: \", \"\").strip() if len(parts) > 0 else \"\"\n",
    "    body = parts[1].strip() if len(parts) > 1 else \"\"\n",
    "    return subject, body\n",
    "\n",
    "# Apply the function to the dataframe\n",
    "data[['subject', 'body']] = data.apply(lambda row: pd.Series(split_subject_body(row['text'])), axis=1)"
   ]
  },
  {
   "cell_type": "code",
   "execution_count": null,
   "metadata": {},
   "outputs": [],
   "source": [
    "def count_words_clean_subject(subject):\n",
    "    # Remove punctuation\n",
    "    clean_subject = re.sub(r'[^\\w\\s]', '', subject)\n",
    "    # Count the words\n",
    "    word_count = len(clean_subject.split())\n",
    "    return word_count\n",
    "\n",
    "# Apply the function to the subject column to update the word count\n",
    "data['subject_length'] = data['subject'].apply(count_words_clean_subject)\n",
    "data.head()"
   ]
  }
 ],
 "metadata": {
  "language_info": {
   "name": "python"
  },
  "orig_nbformat": 4
 },
 "nbformat": 4,
 "nbformat_minor": 2
}
